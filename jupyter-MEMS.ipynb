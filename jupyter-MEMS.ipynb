{
 "cells": [
  {
   "cell_type": "markdown",
   "id": "cc145ad7",
   "metadata": {},
   "source": [
    "# P2I-7 - MODELISATION NUMERIQUE POUR L’INGENIEUR \n",
    "\n",
    "# SUJET N°5 - Capteur MEMS résonant pour la mesure de masse de ultra-haute précision \n",
    " \n",
    "Contact : sebastien.baguet@insa-lyon.fr "
   ]
  },
  {
   "cell_type": "markdown",
   "id": "adf133ce",
   "metadata": {},
   "source": [
    "## Contexte \n",
    "\n",
    "Les importantes avancées dans la micro-fabrication des M/NEMS (Micro et Nano Electro-Mechanical Systems) \n",
    "de ces dernières années ont apporté des développements conséquents dans la navigation, les télécommunications, \n",
    "les jeux vidéo, etc.  \n",
    "Après les MEMS, l’émergence des NEMS (Nano Electro Mechanical Systems) a ouvert la porte à des gammes \n",
    "entières de nouvelles applications. En effet ces nanosystèmes ayant des dimensions critiques de l’ordre de quelques \n",
    "dizaines de nanomètres, et donc une masse et une raideur extrêmement réduites, montrent des sensibilités à des \n",
    "perturbations extérieures (ajout de masse, modification de propriétés chimiques, effort extérieur...) inégalées. En \n",
    "grande majorité résonants, les NEMS permettent en particulier de quantifier l’ajout d’une masse en mesurant leur \n",
    "variation de fréquence propre induite.\n",
    " \n",
    "PHOTO ?\n",
    "Fig.1 – Nano-poutre encastrée-libre avec électrode d’actionnement et nano-fils piezorésistifs de détection \n",
    "(Cliché du CEA-LETI). \n",
    " \n",
    "Un résonateur est constitué d’une nano-poutre (voir Fig. 1), équipée classiquement d’au moins une électrode \n",
    "pour l'actionnement. Une tension continue Vdc fléchit la poutre alors qu'une tension alternative harmonique Vac la \n",
    "sollicite sur sa fréquence fondamentale de flexion. Classiquement il s'agit de faire vibrer le résonateur en flexion sur \n",
    "sa fréquence fondamentale, c-à-d. au maximum d'amplitude. Une perturbation extérieure change la raideur ou la \n",
    "masse du résonateur et donc sa fréquence fondamentale. Plus la taille du résonateur est petite, plus la fréquence \n",
    "fondamentale est grande (de l’ordre de quelques MHz au GHz pour des capteurs NEMS) et plus la sensibilité de ces \n",
    "dispositifs à une perturbation est grande, induisant de meilleures performances. \n",
    "Particule m  \n"
   ]
  },
  {
   "cell_type": "code",
   "execution_count": null,
   "id": "053ee21a",
   "metadata": {},
   "outputs": [
    {
     "name": "stdout",
     "output_type": "stream",
     "text": [
      "hello\n"
     ]
    }
   ],
   "source": [
    "# import des librairies additionnelles\n",
    "import numpy as np\n",
    "from numpy import zeros\n",
    "import matplotlib.pyplot as plt\n",
    "from scipy.integrate import solve_ivp, odeint\n",
    "import time\n",
    "#%matplotlib notebook\n",
    "#%matplotlib widget\n",
    "#%matplotlib ipympl"
   ]
  },
  {
   "cell_type": "code",
   "execution_count": null,
   "id": "175ed850",
   "metadata": {},
   "outputs": [],
   "source": []
  }
 ],
 "metadata": {
  "kernelspec": {
   "display_name": "Python 3",
   "language": "python",
   "name": "python3"
  },
  "language_info": {
   "codemirror_mode": {
    "name": "ipython",
    "version": 3
   },
   "file_extension": ".py",
   "mimetype": "text/x-python",
   "name": "python",
   "nbconvert_exporter": "python",
   "pygments_lexer": "ipython3",
   "version": "3.13.2"
  }
 },
 "nbformat": 4,
 "nbformat_minor": 5
}
