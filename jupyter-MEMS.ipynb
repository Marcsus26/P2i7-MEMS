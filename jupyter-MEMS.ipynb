{
 "cells": [
  {
   "cell_type": "markdown",
   "id": "cc145ad7",
   "metadata": {},
   "source": [
    "# P2I-7 - MODELISATION NUMERIQUE POUR L’INGENIEUR \n",
    "\n",
    "## SUJET N°5 - Capteur MEMS résonant pour la mesure de masse de ultra-haute précision \n",
    " \n",
    "Professeur référent : Sebastien BAGUET "
   ]
  },
  {
   "cell_type": "markdown",
   "id": "adf133ce",
   "metadata": {},
   "source": [
    "## Contexte \n",
    "\n",
    "L'amélioration des techniques de fabrication industrielles nous permettent aujourd'hui le developpement de composants technologiques de plus en plus petits.\n",
    "\n",
    "Ils ouvrent la porte a de nombreux domaines d'application tels que la navigation, les télécommunications,les jeux vidéo ...\n",
    "\n",
    "Les capteurs MEMS (Micro Electro Mechanical Systems) et NEMS (Nano Electro Mechanical Systems) font parties des systèmes qui ont subit le plus d'amélioration ces dernières années.\n",
    "\n",
    "Leur émergence permet à ces nanosystèmes, ayant des dimensions critiques de l’ordre de quelques dizaines de nanomètres (et donc une masse et une raideur extrêmement réduites), de montrer des sensibilités à des perturbations extérieures (ajout de masse, modification de propriétés chimiques, effort extérieur...) inégalées. \n",
    "\n",
    "**Dans ce projet, nous nous interesseront spécifiquement à la mesure de massse d'ultra haute précision.**\n",
    "\n",
    "Ceux-ci fonctionnent grâce à la resonnance d'une nano-poutre soumise à une force électromagnétique induite par deux sources de courant : une continue et une alternative.\n",
    "\n",
    "**Nous étudirons l'effet qu'à l'ajout d'une masse sur le comportement du système résonnant et la quantification de celle-ci en mesurant la variation de fréquence propre induite.**\n"
   ]
  },
  {
   "cell_type": "markdown",
   "id": "6960d60d",
   "metadata": {},
   "source": [
    "PHOTO"
   ]
  },
  {
   "cell_type": "markdown",
   "id": "07b843a9",
   "metadata": {},
   "source": [
    "La nano-poutre résonnante subit par le biais d'une électrode une tension continue Vdc qui fait fléchir la poutre alors qu'une tension alternative harmonique Vac la sollicite sur sa fréquence fondamentale de flexion (au maximum d'amplitude). <br>\n",
    "Une perturbation extérieure change la raideur ou la masse du résonateur et induit donc un changement de sa fréquence fondamentale. \n",
    "\n",
    "A noter que : plus la taille du résonateur est petite, plus la fréquence fondamentale est grande (du MHz au GHz) et plus la sensibilité du dispositif à une perturbation est grande. Une sensibilité élevée entraine de meilleures performances de mesures, tels qu'une plus grande gamme de mesure.  "
   ]
  },
  {
   "cell_type": "markdown",
   "id": "c4237384",
   "metadata": {},
   "source": [
    "## Modélisation\n",
    "\n",
    "Pour simplifier la modélisation et le traitement numérique du problème, on adopte un modèle de type masse-ressort à 1 degré de liberté excité par les efforts électrostatiques générés par l’électrode."
   ]
  },
  {
   "cell_type": "markdown",
   "id": "0cf03eb2",
   "metadata": {},
   "source": [
    "PHOTO 1"
   ]
  },
  {
   "cell_type": "code",
   "execution_count": 1,
   "id": "b01df9a7",
   "metadata": {},
   "outputs": [],
   "source": [
    "# import des librairies additionnelles\n",
    "from newmark import *\n",
    "import numpy as np\n",
    "import matplotlib.pyplot as plt\n",
    "#%matplotlib notebook\n",
    "#%matplotlib widget\n",
    "#%matplotlib ipympl"
   ]
  },
  {
   "cell_type": "markdown",
   "id": "bcf62948",
   "metadata": {},
   "source": [
    "L'équation du mouvement est :\n",
    "$\\left(1 + \\frac{\\delta m}{m} \\right)\\ddot{y} + \\xi \\dot{y} + \\left(1 - 2T V_{dc}^2 \\right)y - \\left(3T V_{dc}^2 \\right)y^2 - \\left(4T V_{dc}^2 \\right)y^3 = T V_{dc}^2 + 2T V_{dc} V_{ac} \\cos(\\Omega \\tau)$\n",
    "\n",
    "\n",
    "L'équation du mouvement de la poutre peut se mettre sous la forme:\n",
    "$M \\ddot{y} + C \\dot{y} + K y + f_{nl}(y) = p(\\tau)$\n",
    "\n",
    "Avec la force électrostatique : \n",
    "$ F_e(x,t) = \\frac{\\varepsilon_0 A}{2} \\cdot \\frac{\\left[ V_{dc} + V_{ac} \\cos(\\omega t) \\right]^2}{(d - x)^2}$\n",
    "\n",
    "Paramètres : \n",
    "- $\\epsilon_0 = 8.5*10^{-12} F.m^{-1} $ : permitivité diélectrique absolue du vide\n",
    "- $A=l*h $ : surface de la masse en vis-à-vis de l’électrode\n",
    "- $d$ : distance masse-l’électrode\n",
    "- $m = \\rho A h$ : masse de la nano-poutre de masse volumique $\\rho$\n",
    "\n",
    "Equation du mouvement : \n",
    "\n",
    "\n",
    "Avec : \n",
    "- $M = 1 + \\frac{\\delta m}{m}$\n",
    "- $C = \\xi = $\n",
    "- $K = (1 - 2T V_{dc}^2) $\n",
    "- $f_{nl}(y) = - (3T V_{dc}^2)y^2 - (4T V_{dc}^2)y^3$\n",
    "- $p(\\tau) = T V_{dc}^2 + 2T V_{dc} V_{ac} \\cos(\\Omega \\tau)$\n",
    "\n",
    "\n",
    "\n",
    "\n",
    "\n",
    "\n",
    "\n",
    "\n",
    "\n"
   ]
  },
  {
   "cell_type": "markdown",
   "id": "8813d416",
   "metadata": {},
   "source": [
    "Les dimensions variables du capteurs sont :"
   ]
  },
  {
   "cell_type": "markdown",
   "id": "f30a6e8c",
   "metadata": {},
   "source": [
    "def des variables d'espaces etc..."
   ]
  },
  {
   "cell_type": "code",
   "execution_count": 2,
   "id": "175ed850",
   "metadata": {},
   "outputs": [
    {
     "ename": "KeyboardInterrupt",
     "evalue": "",
     "output_type": "error",
     "traceback": [
      "\u001b[31m---------------------------------------------------------------------------\u001b[39m",
      "\u001b[31mKeyboardInterrupt\u001b[39m                         Traceback (most recent call last)",
      "\u001b[36mCell\u001b[39m\u001b[36m \u001b[39m\u001b[32mIn[2]\u001b[39m\u001b[32m, line 5\u001b[39m\n\u001b[32m      2\u001b[39m OMEGA_debut, OMEGA_fin, dOMEGA = \u001b[32m0.9\u001b[39m, \u001b[32m1.10\u001b[39m, \u001b[32m0.005\u001b[39m\n\u001b[32m      3\u001b[39m nb_pts_per, nb_per = \u001b[32m50\u001b[39m, \u001b[32m500\u001b[39m\n\u001b[32m----> \u001b[39m\u001b[32m5\u001b[39m OME, AMPL = \u001b[43mcompute_response_curve\u001b[49m\u001b[43m(\u001b[49m\u001b[43mT\u001b[49m\u001b[43m,\u001b[49m\u001b[43m \u001b[49m\u001b[43mVdc\u001b[49m\u001b[43m,\u001b[49m\u001b[43m \u001b[49m\u001b[43mVac\u001b[49m\u001b[43m,\u001b[49m\u001b[43m \u001b[49m\u001b[43momega0\u001b[49m\u001b[43m,\u001b[49m\u001b[43m \u001b[49m\u001b[43mM\u001b[49m\u001b[43m,\u001b[49m\u001b[43m \u001b[49m\u001b[43mC\u001b[49m\u001b[43m,\u001b[49m\u001b[43m \u001b[49m\u001b[43mK\u001b[49m\u001b[43m,\u001b[49m\u001b[43m \u001b[49m\u001b[43mOMEGA_debut\u001b[49m\u001b[43m,\u001b[49m\u001b[43m \u001b[49m\u001b[43mOMEGA_fin\u001b[49m\u001b[43m,\u001b[49m\u001b[43m \u001b[49m\u001b[43mdOMEGA\u001b[49m\u001b[43m,\u001b[49m\u001b[43m \u001b[49m\u001b[43mnb_pts_per\u001b[49m\u001b[43m,\u001b[49m\u001b[43m \u001b[49m\u001b[43mnb_per\u001b[49m\u001b[43m)\u001b[49m\n\u001b[32m      7\u001b[39m     \u001b[38;5;66;03m# Descente en fréquence\u001b[39;00m\n\u001b[32m      8\u001b[39m OME2, AMPL2 = compute_response_curve(T, Vdc, Vac, omega0, M, C, K, OMEGA_fin, OMEGA_debut, -dOMEGA, nb_pts_per, nb_per)\n",
      "\u001b[36mFile \u001b[39m\u001b[32mc:\\Users\\Utilisateur\\Documents\\INSA FIMI 2\\p2i\\P2i7-MEMS\\newmark.py:83\u001b[39m, in \u001b[36mcompute_response_curve\u001b[39m\u001b[34m(T, Vdc, Vac, omega0, M, C, K, OMEGA_debut, OMEGA_fin, dOMEGAinit, nb_pts_per, nb_per, tolerance)\u001b[39m\n\u001b[32m     81\u001b[39m dt = periode / nb_pts_per\n\u001b[32m     82\u001b[39m NT = nb_per * nb_pts_per\n\u001b[32m---> \u001b[39m\u001b[32m83\u001b[39m tt, Yt, dYt = \u001b[43mNewmark\u001b[49m\u001b[43m(\u001b[49m\u001b[43mY0\u001b[49m\u001b[43m,\u001b[49m\u001b[43m \u001b[49m\u001b[43mdY0\u001b[49m\u001b[43m,\u001b[49m\u001b[43m \u001b[49m\u001b[32;43m0\u001b[39;49m\u001b[43m,\u001b[49m\u001b[43m \u001b[49m\u001b[43mdt\u001b[49m\u001b[43m,\u001b[49m\u001b[43m \u001b[49m\u001b[43mNT\u001b[49m\u001b[43m,\u001b[49m\u001b[43m \u001b[49m\u001b[43momega0\u001b[49m\u001b[43m,\u001b[49m\u001b[43m \u001b[49m\u001b[43mT\u001b[49m\u001b[43m,\u001b[49m\u001b[43m \u001b[49m\u001b[43mVdc\u001b[49m\u001b[43m,\u001b[49m\u001b[43m \u001b[49m\u001b[43mVac\u001b[49m\u001b[43m,\u001b[49m\u001b[43m \u001b[49m\u001b[43mOMEGA\u001b[49m\u001b[43m,\u001b[49m\u001b[43m \u001b[49m\u001b[43mM\u001b[49m\u001b[43m,\u001b[49m\u001b[43m \u001b[49m\u001b[43mC\u001b[49m\u001b[43m,\u001b[49m\u001b[43m \u001b[49m\u001b[43mK\u001b[49m\u001b[43m)\u001b[49m\n\u001b[32m     84\u001b[39m AMPL[k] = \u001b[38;5;28mmax\u001b[39m(Yt[-\u001b[32m3\u001b[39m * nb_pts_per:])\n\u001b[32m     85\u001b[39m \u001b[38;5;66;03m#print(f'ome= {OME[k, 0]:0.5f}  y= {AMPL[k, 0]:0.5g}', end=\"\\r\", flush=True)\u001b[39;00m\n",
      "\u001b[36mFile \u001b[39m\u001b[32mc:\\Users\\Utilisateur\\Documents\\INSA FIMI 2\\p2i\\P2i7-MEMS\\newmark.py:36\u001b[39m, in \u001b[36mNewmark\u001b[39m\u001b[34m(Y0, dY0, t_init, dt, NT, omega0, T, Vdc, Vac, OMEGA, M, C, K)\u001b[39m\n\u001b[32m     34\u001b[39m Y += dt * dY + (dt**\u001b[32m2\u001b[39m / \u001b[32m2\u001b[39m) * ddY\n\u001b[32m     35\u001b[39m dY += dt * ddY\n\u001b[32m---> \u001b[39m\u001b[32m36\u001b[39m res = \u001b[43mcalc_P\u001b[49m\u001b[43m(\u001b[49m\u001b[43mT\u001b[49m\u001b[43m,\u001b[49m\u001b[43m \u001b[49m\u001b[43mVdc\u001b[49m\u001b[43m,\u001b[49m\u001b[43m \u001b[49m\u001b[43mVac\u001b[49m\u001b[43m,\u001b[49m\u001b[43m \u001b[49m\u001b[43mOMEGA\u001b[49m\u001b[43m,\u001b[49m\u001b[43m \u001b[49m\u001b[43mt\u001b[49m\u001b[43m)\u001b[49m - M * ddY - C * dY - K * Y - calc_Fnl(T, Vdc, Y)\n\u001b[32m     37\u001b[39m normres = \u001b[38;5;28mabs\u001b[39m(res / P)\n\u001b[32m     39\u001b[39m \u001b[38;5;28;01mwhile\u001b[39;00m normres > precNR:\n",
      "\u001b[36mFile \u001b[39m\u001b[32mc:\\Users\\Utilisateur\\Documents\\INSA FIMI 2\\p2i\\P2i7-MEMS\\newmark.py:9\u001b[39m, in \u001b[36mcalc_P\u001b[39m\u001b[34m(T, Vdc, Vac, OMEGA, t)\u001b[39m\n\u001b[32m      8\u001b[39m \u001b[38;5;28;01mdef\u001b[39;00m\u001b[38;5;250m \u001b[39m\u001b[34mcalc_P\u001b[39m(T, Vdc, Vac, OMEGA, t):\n\u001b[32m----> \u001b[39m\u001b[32m9\u001b[39m     \u001b[38;5;28;01mreturn\u001b[39;00m T * Vdc**\u001b[32m2\u001b[39m + \u001b[32m2\u001b[39m * T * Vdc * Vac * \u001b[43mnp\u001b[49m\u001b[43m.\u001b[49m\u001b[43mcos\u001b[49m\u001b[43m(\u001b[49m\u001b[43mOMEGA\u001b[49m\u001b[43m \u001b[49m\u001b[43m*\u001b[49m\u001b[43m \u001b[49m\u001b[43mt\u001b[49m\u001b[43m)\u001b[49m\n",
      "\u001b[31mKeyboardInterrupt\u001b[39m: "
     ]
    }
   ],
   "source": [
    "T, Vdc, Vac, omega0, M, C, K = init_params()\n",
    "OMEGA_debut, OMEGA_fin, dOMEGA = 0.9, 1.10, 0.005\n",
    "nb_pts_per, nb_per = 50, 500\n",
    "\n",
    "OME, AMPL = compute_response_curve(T, Vdc, Vac, omega0, M, C, K, OMEGA_debut, OMEGA_fin, dOMEGA, nb_pts_per, nb_per)\n",
    "\n",
    "    # Descente en fréquence\n",
    "OME2, AMPL2 = compute_response_curve(T, Vdc, Vac, omega0, M, C, K, OMEGA_fin, OMEGA_debut, -dOMEGA, nb_pts_per, nb_per)\n",
    "\n",
    "    # Chargement des données de la courbe de réponse\n",
    "data = np.loadtxt('courbe_reponse_modified.txt', delimiter=',')\n",
    "OMEGA_data, AMPL_data = data[:, 0], data[:, 1]\n",
    "\n",
    "    # Affichage\n",
    "plot_response_curve(OME, AMPL, OME2, AMPL2, OMEGA_data, AMPL_data,tracer_data=True)\n",
    "\n",
    "plt.show()"
   ]
  }
 ],
 "metadata": {
  "kernelspec": {
   "display_name": "Python 3",
   "language": "python",
   "name": "python3"
  },
  "language_info": {
   "codemirror_mode": {
    "name": "ipython",
    "version": 3
   },
   "file_extension": ".py",
   "mimetype": "text/x-python",
   "name": "python",
   "nbconvert_exporter": "python",
   "pygments_lexer": "ipython3",
   "version": "3.13.2"
  }
 },
 "nbformat": 4,
 "nbformat_minor": 5
}
