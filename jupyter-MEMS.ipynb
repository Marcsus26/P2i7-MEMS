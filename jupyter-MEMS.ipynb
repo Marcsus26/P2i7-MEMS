{
 "cells": [
  {
   "cell_type": "markdown",
   "id": "cc145ad7",
   "metadata": {},
   "source": [
    "# P2I-7 - MODELISATION NUMERIQUE POUR L’INGENIEUR \n",
    "\n",
    "## SUJET N°5 - Capteur MEMS résonant pour la mesure de masse de ultra-haute précision \n",
    " \n",
    "Professeur référent : Sebastien BAGUET "
   ]
  },
  {
   "cell_type": "markdown",
   "id": "adf133ce",
   "metadata": {},
   "source": [
    "## Contexte \n",
    "\n",
    "L'amélioration des techniques industrielles permet aujourd'hui le développement de composants\n",
    "technologiques de plus en plus petits. Ils ouvrent la porte à de nombreux domaines d'application tels que la\n",
    "navigation, les télécommunications, les jeux vidéo, etc.\n",
    "\n",
    "Les capteurs MEMS/ NEMS (Micro/Nano Electro Mechanical Systems) font partie des systèmes qui ont\n",
    "connu le plus d’avancées ces dernières années. Ces nano-systèmes, ayant des dimensions de l’ordre de\n",
    "quelques dizaines de nanomètres, permettent de mesurer des perturbations extérieures (ajout de masse,\n",
    "modification de propriétés chimiques, effort tiers...) très fines. Un MEMS représente donc une solution fiable\n",
    "et précise pour concevoir un accéléromètre ou un capteur de pression par exemple.\n",
    "\n",
    "**Dans ce projet, nous nous intéressons spécifiquement à la simulation d’un capteur MEMS de mesure\n",
    "de masse d'ultra haute précision.**\n",
    "\n",
    "Celui-ci fonctionne grâce à la résonance d'une nano-poutre soumise à une force électromagnétique induite\n",
    "par deux sources de tension : une continue et une alternative.\n",
    "\n",
    "**Nous étudions l'effet de l'ajout d'une masse sur le comportement du système résonnant et la\n",
    "quantification de celle-ci en mesurant la variation de fréquence propre induite.**\n"
   ]
  },
  {
   "cell_type": "markdown",
   "id": "6960d60d",
   "metadata": {},
   "source": [
    "PHOTO"
   ]
  },
  {
   "cell_type": "markdown",
   "id": "07b843a9",
   "metadata": {},
   "source": [
    " La nano-poutre est soumise à une tension continue via une électrode 𝑉𝑑𝑐 qui fait fléchir la poutre, alors\n",
    "qu'une tension alternative harmonique 𝑉𝑎𝑐 la sollicite sur sa fréquence fondamentale de flexion (au maximum\n",
    "d'amplitude). L’ajout d’une petite masse change la masse totale du résonateur et induit donc un changement de\n",
    "sa fréquence fondamentale, ce qui permet de déduire la valeur de la masse ajoutée.\n",
    "\n",
    "À noter que : plus la taille du résonateur est petite, plus la fréquence fondamentale est grande (du MHz\n",
    "au GHz) et plus la sensibilité du dispositif à une perturbation est grande. Une sensibilité élevée entraîne de\n",
    "meilleures performances de mesure, telle qu'une plus grande gamme de mesures."
   ]
  },
  {
   "cell_type": "code",
   "execution_count": null,
   "id": "ed75a3bb",
   "metadata": {},
   "outputs": [
    {
     "ename": "SyntaxError",
     "evalue": "invalid syntax (3699233558.py, line 6)",
     "output_type": "error",
     "traceback": [
      "\u001b[0;36m  Cell \u001b[0;32mIn[3], line 6\u001b[0;36m\u001b[0m\n\u001b[0;31m    import newmark as\u001b[0m\n\u001b[0m                      ^\u001b[0m\n\u001b[0;31mSyntaxError\u001b[0m\u001b[0;31m:\u001b[0m invalid syntax\n"
     ]
    }
   ],
   "source": [
    "# import des librairies additionnelles\n",
    "import numpy as np\n",
    "import matplotlib.pyplot as plt\n",
    "\n",
    "# Importation des fichiers\n",
    "import newmark as \n",
    "import newmark_masse_ajoutee as \n",
    "import saut as \n",
    "import trace_delta_m_f as \n",
    "import test as \n",
    "\n",
    "#%matplotlib notebook\n",
    "#%matplotlib widget\n",
    "#%matplotlib ipympl"
   ]
  },
  {
   "cell_type": "markdown",
   "id": "c4237384",
   "metadata": {},
   "source": [
    "## Modélisation du problème \n",
    "\n",
    "Pour simplifier la modélisation et le traitement numérique du problème, on adopte un modèle de type masse-ressort à un degré de liberté, excité par les efforts électrostatiques générés par l’électrode."
   ]
  },
  {
   "cell_type": "markdown",
   "id": "0cf03eb2",
   "metadata": {},
   "source": [
    "<center>\n",
    "<img src=\"./modele_simplifié_resonateur.JPG\" alt width=300 heigth=350>\n",
    "\n",
    "Figure 2 : Modèle simplifié masse-ressort avec masse ajoutée $\\delta m$\n",
    "</center>"
   ]
  },
  {
   "cell_type": "code",
   "execution_count": null,
   "id": "fc45cfbb",
   "metadata": {},
   "outputs": [],
   "source": []
  },
  {
   "cell_type": "markdown",
   "id": "4d9294c5",
   "metadata": {},
   "source": [
    "L'équation du mouvement issue du Principe Fondamentale de la Dynamique sur $\\vec{x}$ pour le modele simplifié est : \n",
    "$$ m \\ddot{x} + c \\dot{x} + k x = F_e(x,t)$$\n",
    "\n",
    "$x$ étant le déplacement du bout de la poutre et $\\dot{x}$, $\\ddot{x}$ ses dérivées par rapport au temps t.\n",
    "\n",
    "Avec :\n",
    "- La force électrostatique non-linéaire est : $ F_e(x,t) = \\frac{\\varepsilon_0 A}{2} \\cdot \\frac{\\left[ V_{dc} + V_{ac} \\cos(\\omega t) \\right]^2}{(d - x)^2}$ \n",
    "- $m = \\rho A h$ : masse de la nano-poutre de masse volumique $\\rho$ homogne\n",
    "- $c$ et $k$ : coefficient d'amortissement et de raideur\n",
    "    \n",
    "    Et : \n",
    "    - $\\epsilon_0 = 8.5*10^{-12} F.m^{-1} $ : permitivité diélectrique absolue du vide\n",
    "    - $A=l*h $ : surface de la masse en vis-à-vis de l’électrode\n",
    "    - $d$ : distance masse-électrode\n",
    "    - $\\omega$ : pulsation liée à l'excitation alternative\n",
    "    - $V_{dc}$ : tension continue dans l'éléctrode\n",
    "    - $V_{ac}$ : tension alternative dans l'éléctrode\n"
   ]
  },
  {
   "cell_type": "markdown",
   "id": "2ec03b63",
   "metadata": {},
   "source": [
    "**Cependant** :\n",
    "Il est nécessaire d’adimensionner les variables $x$ et $\\omega$ car, les ordres de grandeur étant significativement différents entre eux, nous pourrions obtenir des résultats aberrants lors de la mise en place d’un schéma numérique.\n",
    "\n",
    "On pose :\n",
    "- $\\tau = \\omega_0t$ le temps adimensionné avec $\\omega_0 = \\sqrt{\\frac{k}{m}}$ la pulsation propre du système\n",
    "- $\\Omega = \\frac{\\omega}{\\omega_0}$ la pulsation adimensionnée\n",
    "- $y = \\frac{x}{d}$ le déplacement sur $\\vec{x}$ adimensionné"
   ]
  },
  {
   "cell_type": "markdown",
   "id": "bcf62948",
   "metadata": {},
   "source": [
    "En introduisant un développement limité à la force élétrostatique au coefficient $\\frac{1}{(1-y)²}$, l'équation du mouvement du bout de la poutre devient :\n",
    "$$\\left(1 + \\frac{\\delta m}{m} \\right)\\ddot{y} + \\xi \\dot{y} + \\left(1 - 2T V_{dc}^2 \\right)y - \\left(3T V_{dc}^2 \\right)y^2 - \\left(4T V_{dc}^2 \\right)y^3 = T V_{dc}^2 + 2T V_{dc} V_{ac} \\cos(\\Omega \\tau)$$\n",
    "\n",
    "Avec : $T = \\frac{\\varepsilon_0 A}{2m \\omega_0^2 d^3}$\n",
    "\n",
    "Elle peut se mettre sous la forme:\n",
    "$$M \\ddot{y} + C \\dot{y} + K y + f_{nl}(y) = p(\\tau)$$\n",
    "\n",
    "Et:\n",
    "- $M = 1 + \\frac{\\delta m}{m}$\n",
    "- $C = \\xi = \\frac{c}{mw_0} $\n",
    "- $K = (1 - 2T V_{dc}^2) $\n",
    "- $f_{nl}(y) = - (3T V_{dc}^2)y^2 - (4T V_{dc}^2)y^3$\n",
    "- $p(\\tau) = T V_{dc}^2 + 2T V_{dc} V_{ac} \\cos(\\Omega \\tau)$\n",
    "\n",
    "\n",
    "Cette équation est non-linéaire. Ainsi, nous ne sommes pas en mesure de trouver une solution analytique.\n",
    "C’est pourquoi nous utiliserons des schémas d’intégration afin d’obtenir la solution numérique du mouvement.\n",
    "\n",
    "\n",
    "\n",
    "\n",
    "\n",
    "\n",
    "\n",
    "\n"
   ]
  },
  {
   "cell_type": "markdown",
   "id": "8813d416",
   "metadata": {},
   "source": [
    "Les dimensions variables du capteurs sont :"
   ]
  },
  {
   "cell_type": "markdown",
   "id": "f30a6e8c",
   "metadata": {},
   "source": [
    "def des variables d'espaces etc..."
   ]
  },
  {
   "cell_type": "markdown",
   "id": "cf6b9c96",
   "metadata": {},
   "source": [
    "## Modélisation du déplacement de la poutre avec l’algorithme de Newmark\n",
    "\n",
    "Dans un premier temps, nous travaillons sans masse ajoutée sur la poutre. Nous mettons en place\n",
    "l’algorithme de Newmark afin de tracer une courbe de réponse de la position de l’extrémité de la nano-poutre\n",
    "en fonction du temps.\n",
    "\n",
    "La courbe est obtenue pour une pulsation Ω donnée, avec deux conditions initiales sur la position et la\n",
    "vitesse. Ainsi, nous observons le déplacement de la poutre lorsqu’elle est écartée de sa position d’origine et\n",
    "mise en mouvement par une perturbation extérieure.\n",
    "\n"
   ]
  },
  {
   "cell_type": "code",
   "execution_count": null,
   "id": "a7efdb1a",
   "metadata": {},
   "outputs": [],
   "source": []
  },
  {
   "cell_type": "markdown",
   "id": "c85d6682",
   "metadata": {},
   "source": [
    "Nous pouvons distinguer deux phases dans la variation de la position dans le temps. Un premier régime\n",
    "transitoire qui tend à se stabiliser sur un régime permanent harmonique.\n",
    "Cette solution numérique semble satisfaisante car elle reflète fidèlement le comportement de la nano-poutre,\n",
    "dont le déplacement va progressivement diminuer d’amplitude avant de retrouver son fonctionnement normal."
   ]
  },
  {
   "cell_type": "markdown",
   "id": "c0c237e6",
   "metadata": {},
   "source": [
    "## Tracé d’une courbe de réponse du résonateur sans masse ajoutée\n",
    "\n",
    "Nous pouvons alors, en utilisant les dernières périodes du régime permanent établi, obtenir l’amplitude\n",
    "maximale atteinte.\n",
    "\n",
    "En faisant varier Ω, nous pouvons, avec les amplitudes, tracer la courbe de réponse entre deux bornes de\n",
    "Ωmin et Ωmax données. Pour cela nous calculons les amplitudes maximales en augmentant Ω et également en le\n",
    "diminuant dans un second temps. Cela nous permet d’avoir les deux réponses d’amplitude possibles dans la\n",
    "phase de non-linéarité.\n",
    "\n",
    "Nous comparons avec les données fournies en superposant les deux courbes de réponse. En exploitant ce\n",
    "fichier nous pouvons tracer la superposition des deux courbes."
   ]
  },
  {
   "cell_type": "code",
   "execution_count": null,
   "id": "2b344261",
   "metadata": {},
   "outputs": [],
   "source": []
  },
  {
   "cell_type": "markdown",
   "id": "b62ccb6d",
   "metadata": {},
   "source": [
    "## Raffinage de l’extrémité de la courbe de réponse\n",
    "\n",
    "Pour mesurer le décalage en fréquence, il est important d’avoir un nombre de points suffisants autour de\n",
    "l’amplitude maximale de la courbe de réponse. Pour ce faire, nous fixons un pas d’itération dΩ très petit autour\n",
    "de ce point, et uniquement à cet endroit. Le raffinage réalisé uniquement sur cette zone permet de nettement\n",
    "réduire le temps de calcul nécessaire pour les tracés."
   ]
  },
  {
   "cell_type": "code",
   "execution_count": null,
   "id": "730b2d78",
   "metadata": {},
   "outputs": [],
   "source": []
  },
  {
   "cell_type": "markdown",
   "id": "cf283393",
   "metadata": {},
   "source": [
    "##  Modification du modèle et ajout d’une masse $\\delta m$\n",
    "\n",
    "Maintenant que le modèle fonctionne sans masse ajoutée, nous pouvons simuler l’ajout d’une petite masse\n",
    "sur la poutre en modifiant la valeur de la masse adimensionnée 𝑀. En utilisant le même algorithme que celui\n",
    "des étapes précédentes, nous traçons la courbe de réponse du capteur pour une masse ajoutée allant de\n",
    "10−12 𝑘𝑔 à 10−15 𝑘𝑔 et la comparons à celle sans masse ajoutée.\n",
    "\n",
    "Avec ces courbes de réponse, nous observons que plus la masse ajoutée est grande, plus la courbe se déplace\n",
    "vers les valeurs plus faibles de la pulsation."
   ]
  },
  {
   "cell_type": "code",
   "execution_count": null,
   "id": "303cfec4",
   "metadata": {},
   "outputs": [],
   "source": []
  },
  {
   "cell_type": "markdown",
   "id": "c8dbaa23",
   "metadata": {},
   "source": [
    "## Régression du décalage en fréquence en fonction de la masse ajoutée\n",
    "\n",
    "Nous pouvons alors mesurer le décalage des deux courbes en mesurant la différence de pulsation d’un point\n",
    "particulier. Nous avons choisi le sommet du pic de résonance afin d’avoir un point caractéristique pour chaque\n",
    "courbe."
   ]
  },
  {
   "cell_type": "code",
   "execution_count": null,
   "id": "b4af0e5f",
   "metadata": {},
   "outputs": [],
   "source": []
  }
 ],
 "metadata": {
  "kernelspec": {
   "display_name": "base",
   "language": "python",
   "name": "python3"
  },
  "language_info": {
   "codemirror_mode": {
    "name": "ipython",
    "version": 3
   },
   "file_extension": ".py",
   "mimetype": "text/x-python",
   "name": "python",
   "nbconvert_exporter": "python",
   "pygments_lexer": "ipython3",
   "version": "3.12.7"
  }
 },
 "nbformat": 4,
 "nbformat_minor": 5
}
